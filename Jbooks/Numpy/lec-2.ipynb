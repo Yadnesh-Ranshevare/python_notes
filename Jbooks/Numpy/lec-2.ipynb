{
 "cells": [
  {
   "cell_type": "markdown",
   "id": "cbb7d786",
   "metadata": {},
   "source": [
    "# numPy array operation"
   ]
  },
  {
   "cell_type": "code",
   "execution_count": 3,
   "id": "7f14f640",
   "metadata": {},
   "outputs": [],
   "source": [
    "import numpy as np"
   ]
  },
  {
   "cell_type": "code",
   "execution_count": 11,
   "id": "a6ef0af2",
   "metadata": {},
   "outputs": [
    {
     "name": "stdout",
     "output_type": "stream",
     "text": [
      "original array [ 0  1  2  3  4  5  6  7  8  9 10 11]\n",
      "basics slicing [2 3 4 5 6]\n",
      "with step slicing [2 4 6 8]\n",
      "negative indexing 9\n"
     ]
    }
   ],
   "source": [
    "arr = np.arange(12)\n",
    "print(\"original array\",arr)\n",
    "print(\"basics slicing\",arr[2:7])\n",
    "print(\"with step slicing\",arr[2:10:2])\n",
    "print(\"negative indexing\",arr[-3])"
   ]
  },
  {
   "cell_type": "code",
   "execution_count": 19,
   "id": "f2835eba",
   "metadata": {},
   "outputs": [
    {
     "name": "stdout",
     "output_type": "stream",
     "text": [
      "original array\n",
      " [[1 2 3]\n",
      " [4 5 6]\n",
      " [7 8 9]]\n",
      "specific element 6\n",
      "entire row [4 5 6]\n",
      "entire column [2 5 8]\n"
     ]
    }
   ],
   "source": [
    "arr = np.array([[1,2,3],[4,5,6],[7,8,9]])\n",
    "print(\"original array\\n\",arr)\n",
    "print(\"specific element\",arr[1,2])\n",
    "print(\"entire row\",arr[1])\n",
    "print(\"entire column\",arr[:,1])"
   ]
  },
  {
   "cell_type": "code",
   "execution_count": null,
   "id": "92ce93fa",
   "metadata": {},
   "outputs": [
    {
     "name": "stdout",
     "output_type": "stream",
     "text": [
      "unsorted array [4 2 6 1 3 5]\n",
      "sorted array [1 2 3 4 5 6]\n"
     ]
    }
   ],
   "source": [
    "unsortedArr = np.array([4,2,6,1,3,5])\n",
    "sortedArr = np.sort(unsortedArr)\n",
    "print(\"unsorted array\",unsortedArr)\n",
    "print(\"sorted array\",sortedArr)\n",
    "\n",
    "unsortedArr_2d = np.array([[4,2,6],[1,3,5]])"
   ]
  }
 ],
 "metadata": {
  "kernelspec": {
   "display_name": "Python 3",
   "language": "python",
   "name": "python3"
  },
  "language_info": {
   "codemirror_mode": {
    "name": "ipython",
    "version": 3
   },
   "file_extension": ".py",
   "mimetype": "text/x-python",
   "name": "python",
   "nbconvert_exporter": "python",
   "pygments_lexer": "ipython3",
   "version": "3.12.8"
  }
 },
 "nbformat": 4,
 "nbformat_minor": 5
}
