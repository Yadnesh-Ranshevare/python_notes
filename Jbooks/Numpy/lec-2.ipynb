{
 "cells": [
  {
   "cell_type": "markdown",
   "id": "cbb7d786",
   "metadata": {},
   "source": [
    "# numPy array operation"
   ]
  },
  {
   "cell_type": "code",
   "execution_count": 2,
   "id": "7f14f640",
   "metadata": {},
   "outputs": [],
   "source": [
    "import numpy as np"
   ]
  },
  {
   "cell_type": "code",
   "execution_count": 11,
   "id": "a6ef0af2",
   "metadata": {},
   "outputs": [
    {
     "name": "stdout",
     "output_type": "stream",
     "text": [
      "original array [ 0  1  2  3  4  5  6  7  8  9 10 11]\n",
      "basics slicing [2 3 4 5 6]\n",
      "with step slicing [2 4 6 8]\n",
      "negative indexing 9\n"
     ]
    }
   ],
   "source": [
    "arr = np.arange(12)\n",
    "print(\"original array\",arr)\n",
    "print(\"basics slicing\",arr[2:7])\n",
    "print(\"with step slicing\",arr[2:10:2])\n",
    "print(\"negative indexing\",arr[-3])"
   ]
  },
  {
   "cell_type": "code",
   "execution_count": 19,
   "id": "f2835eba",
   "metadata": {},
   "outputs": [
    {
     "name": "stdout",
     "output_type": "stream",
     "text": [
      "original array\n",
      " [[1 2 3]\n",
      " [4 5 6]\n",
      " [7 8 9]]\n",
      "specific element 6\n",
      "entire row [4 5 6]\n",
      "entire column [2 5 8]\n"
     ]
    }
   ],
   "source": [
    "arr = np.array([[1,2,3],[4,5,6],[7,8,9]])\n",
    "print(\"original array\\n\",arr)\n",
    "print(\"specific element\",arr[1,2])\n",
    "print(\"entire row\",arr[1])\n",
    "print(\"entire column\",arr[:,1])"
   ]
  },
  {
   "cell_type": "code",
   "execution_count": 32,
   "id": "92ce93fa",
   "metadata": {},
   "outputs": [
    {
     "name": "stdout",
     "output_type": "stream",
     "text": [
      "unsorted 2d array\n",
      " [[4 2 6]\n",
      " [1 3 5]\n",
      " [9 8 7]]\n",
      "\n",
      "row wise sorted 2d array\n",
      " [[2 4 6]\n",
      " [1 3 5]\n",
      " [7 8 9]]\n",
      "\n",
      "column wise sorted 2d array\n",
      " [[1 2 5]\n",
      " [4 3 6]\n",
      " [9 8 7]]\n"
     ]
    }
   ],
   "source": [
    "# unsortedArr = np.array([4,2,6,1,3,5])\n",
    "# sortedArr = np.sort(unsortedArr)\n",
    "# print(\"unsorted array\",unsortedArr)\n",
    "# print(\"sorted array\",sortedArr)\n",
    "\n",
    "unsortedArr_2d = np.array([[4,2,6],[1,3,5],[9,8,7]])\n",
    "row_sortedArr_2d = np.sort(unsortedArr_2d,axis=1)\n",
    "col_sortedArr_2d = np.sort(unsortedArr_2d,axis=0)\n",
    "print(\"unsorted 2d array\\n\",unsortedArr_2d)\n",
    "print(\"\\nrow wise sorted 2d array\\n\",row_sortedArr_2d)\n",
    "print(\"\\ncolumn wise sorted 2d array\\n\",col_sortedArr_2d)"
   ]
  },
  {
   "cell_type": "markdown",
   "id": "43e34587",
   "metadata": {},
   "source": [
    "# filtration"
   ]
  },
  {
   "cell_type": "code",
   "execution_count": 8,
   "id": "83aacf89",
   "metadata": {},
   "outputs": [
    {
     "name": "stdout",
     "output_type": "stream",
     "text": [
      "original array [ 0  1  2  3  4  5  6  7  8  9 10 11]\n",
      "even number array [ 0  2  4  6  8 10]\n",
      "mask array [ True False  True False  True False  True False  True False  True False]\n",
      "filtered array [ 0  2  4  6  8 10]\n"
     ]
    }
   ],
   "source": [
    "arr = np.arange(12)\n",
    "print(\"original array\",arr)\n",
    "\n",
    "even_arr = arr[arr%2==0]\n",
    "print(\"even number array\",even_arr)\n",
    "\n",
    "\n",
    "m = arr%2==0\n",
    "print(\"mask array\",m)\n",
    "print(\"filtered array\",arr[m])"
   ]
  },
  {
   "cell_type": "markdown",
   "id": "e5fa1e3d",
   "metadata": {},
   "source": [
    "fancy indexing and np.where() "
   ]
  },
  {
   "cell_type": "code",
   "execution_count": 48,
   "id": "7fa186d0",
   "metadata": {},
   "outputs": [
    {
     "name": "stdout",
     "output_type": "stream",
     "text": [
      "original array\n",
      " [ 0  1  2  3  4  5  6  7  8  9 10 11]\n",
      "where result\n",
      " ['X' '1' 'X' '3' 'X' '5' 'X' '7' 'X' '9' 'X' '11']\n"
     ]
    }
   ],
   "source": [
    "arr = np.arange(12)\n",
    "print(\"original array\\n\",arr)\n",
    "\n",
    "# idx = [1,4,6,8]\n",
    "# print(\"index array\\n\",idx)\n",
    "\n",
    "# print(\"selected element\\n\",arr[idx])\n",
    "\n",
    "\n",
    "where_result = np.where(arr%2==0,'X',arr)\n",
    "print(\"where result\\n\",where_result)\n",
    "# print(\"selected element\\n\",arr[where_result])"
   ]
  },
  {
   "cell_type": "markdown",
   "id": "173e23ee",
   "metadata": {},
   "source": [
    "### adding and removing data"
   ]
  },
  {
   "cell_type": "code",
   "execution_count": 68,
   "id": "faee83fa",
   "metadata": {},
   "outputs": [
    {
     "name": "stdout",
     "output_type": "stream",
     "text": [
      "with new row\n",
      " [[1 2 3]\n",
      " [4 5 6]\n",
      " [7 8 9]]\n",
      "original array\n",
      " [[1 2 3]\n",
      " [4 5 6]]\n",
      "with new column\n",
      " [[1 2 3 7]\n",
      " [4 5 6 8]]\n"
     ]
    }
   ],
   "source": [
    "# arr1 = np.array([1,2,3])\n",
    "# arr2 = np.array([4,5,6])\n",
    "# print(\"adding two array\",arr1+arr2)\n",
    "# print(\"concatenated array\",np.concatenate((arr1,arr2)))\n",
    "\n",
    "arr_2d = np.array([[1,2,3],[4,5,6]])\n",
    "new_row = np.array([7,8,9])\n",
    "new_column = np.array([[7],[8]])\n",
    "\n",
    "with_new_row = np.vstack((arr_2d,new_row))\n",
    "print(\"with new row\\n\",with_new_row)\n",
    "\n",
    "with_new_column = np.hstack((arr_2d,new_column))\n",
    "print(\"original array\\n\",arr_2d)\n",
    "print(\"with new column\\n\",with_new_column)"
   ]
  },
  {
   "cell_type": "code",
   "execution_count": null,
   "id": "e41c0d81",
   "metadata": {},
   "outputs": [
    {
     "ename": "AxisError",
     "evalue": "axis 5 is out of bounds for array of dimension 2",
     "output_type": "error",
     "traceback": [
      "\u001b[31m---------------------------------------------------------------------------\u001b[39m",
      "\u001b[31mAxisError\u001b[39m                                 Traceback (most recent call last)",
      "\u001b[36mCell\u001b[39m\u001b[36m \u001b[39m\u001b[32mIn[76]\u001b[39m\u001b[32m, line 2\u001b[39m\n\u001b[32m      1\u001b[39m arr = np.array([[\u001b[32m1\u001b[39m,\u001b[32m2\u001b[39m,\u001b[32m3\u001b[39m, \u001b[32m4\u001b[39m,\u001b[32m5\u001b[39m,\u001b[32m6\u001b[39m]])\n\u001b[32m----> \u001b[39m\u001b[32m2\u001b[39m deleted_arr = \u001b[43mnp\u001b[49m\u001b[43m.\u001b[49m\u001b[43mdelete\u001b[49m\u001b[43m(\u001b[49m\u001b[43marr\u001b[49m\u001b[43m,\u001b[49m\u001b[32;43m1\u001b[39;49m\u001b[43m,\u001b[49m\u001b[32;43m5\u001b[39;49m\u001b[43m)\u001b[49m\n\u001b[32m      3\u001b[39m \u001b[38;5;28mprint\u001b[39m(\u001b[33m\"\u001b[39m\u001b[33mdeleted column\u001b[39m\u001b[38;5;130;01m\\n\u001b[39;00m\u001b[33m\"\u001b[39m,deleted_arr)\n\u001b[32m      6\u001b[39m \u001b[38;5;66;03m# arr = np.array([[1,2,3],[4,5,6]])\u001b[39;00m\n\u001b[32m      7\u001b[39m \u001b[38;5;66;03m# print(\"original array\\n\",arr)\u001b[39;00m\n\u001b[32m      8\u001b[39m \n\u001b[32m   (...)\u001b[39m\u001b[32m     12\u001b[39m \u001b[38;5;66;03m# deleted = np.delete(arr,1,axis=1)\u001b[39;00m\n\u001b[32m     13\u001b[39m \u001b[38;5;66;03m# print(\"deleted column\\n\",deleted)\u001b[39;00m\n",
      "\u001b[36mFile \u001b[39m\u001b[32mc:\\Users\\Yadnesh\\AppData\\Local\\Programs\\Python\\Python312\\Lib\\site-packages\\numpy\\lib\\_function_base_impl.py:5350\u001b[39m, in \u001b[36mdelete\u001b[39m\u001b[34m(arr, obj, axis)\u001b[39m\n\u001b[32m   5348\u001b[39m     axis = ndim - \u001b[32m1\u001b[39m\n\u001b[32m   5349\u001b[39m \u001b[38;5;28;01melse\u001b[39;00m:\n\u001b[32m-> \u001b[39m\u001b[32m5350\u001b[39m     axis = \u001b[43mnormalize_axis_index\u001b[49m\u001b[43m(\u001b[49m\u001b[43maxis\u001b[49m\u001b[43m,\u001b[49m\u001b[43m \u001b[49m\u001b[43mndim\u001b[49m\u001b[43m)\u001b[49m\n\u001b[32m   5352\u001b[39m slobj = [\u001b[38;5;28mslice\u001b[39m(\u001b[38;5;28;01mNone\u001b[39;00m)]*ndim\n\u001b[32m   5353\u001b[39m N = arr.shape[axis]\n",
      "\u001b[31mAxisError\u001b[39m: axis 5 is out of bounds for array of dimension 2"
     ]
    }
   ],
   "source": [
    "arr = np.array([[1,2,3, 4,5,6]])\n",
    "deleted_arr = np.delete(arr,[1,5])\n",
    "print(\"deleted column\\n\",deleted_arr)\n",
    "\n",
    "\n",
    "# arr = np.array([[1,2,3],[4,5,6]])\n",
    "# print(\"original array\\n\",arr)\n",
    "\n",
    "# deleted = np.delete(arr,[0,1],axis=0)\n",
    "# print(\"deleted row\\n\",deleted)\n",
    "\n",
    "# deleted = np.delete(arr,1,axis=1)\n",
    "# print(\"deleted column\\n\",deleted)"
   ]
  }
 ],
 "metadata": {
  "kernelspec": {
   "display_name": "Python 3",
   "language": "python",
   "name": "python3"
  },
  "language_info": {
   "codemirror_mode": {
    "name": "ipython",
    "version": 3
   },
   "file_extension": ".py",
   "mimetype": "text/x-python",
   "name": "python",
   "nbconvert_exporter": "python",
   "pygments_lexer": "ipython3",
   "version": "3.12.8"
  }
 },
 "nbformat": 4,
 "nbformat_minor": 5
}
