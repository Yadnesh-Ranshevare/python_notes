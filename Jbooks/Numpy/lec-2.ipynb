{
 "cells": [
  {
   "cell_type": "markdown",
   "id": "cbb7d786",
   "metadata": {},
   "source": [
    "# numPy array operation"
   ]
  },
  {
   "cell_type": "code",
   "execution_count": 2,
   "id": "7f14f640",
   "metadata": {},
   "outputs": [],
   "source": [
    "import numpy as np"
   ]
  },
  {
   "cell_type": "code",
   "execution_count": 11,
   "id": "a6ef0af2",
   "metadata": {},
   "outputs": [
    {
     "name": "stdout",
     "output_type": "stream",
     "text": [
      "original array [ 0  1  2  3  4  5  6  7  8  9 10 11]\n",
      "basics slicing [2 3 4 5 6]\n",
      "with step slicing [2 4 6 8]\n",
      "negative indexing 9\n"
     ]
    }
   ],
   "source": [
    "arr = np.arange(12)\n",
    "print(\"original array\",arr)\n",
    "print(\"basics slicing\",arr[2:7])\n",
    "print(\"with step slicing\",arr[2:10:2])\n",
    "print(\"negative indexing\",arr[-3])"
   ]
  },
  {
   "cell_type": "code",
   "execution_count": 19,
   "id": "f2835eba",
   "metadata": {},
   "outputs": [
    {
     "name": "stdout",
     "output_type": "stream",
     "text": [
      "original array\n",
      " [[1 2 3]\n",
      " [4 5 6]\n",
      " [7 8 9]]\n",
      "specific element 6\n",
      "entire row [4 5 6]\n",
      "entire column [2 5 8]\n"
     ]
    }
   ],
   "source": [
    "arr = np.array([[1,2,3],[4,5,6],[7,8,9]])\n",
    "print(\"original array\\n\",arr)\n",
    "print(\"specific element\",arr[1,2])\n",
    "print(\"entire row\",arr[1])\n",
    "print(\"entire column\",arr[:,1])"
   ]
  },
  {
   "cell_type": "code",
   "execution_count": 32,
   "id": "92ce93fa",
   "metadata": {},
   "outputs": [
    {
     "name": "stdout",
     "output_type": "stream",
     "text": [
      "unsorted 2d array\n",
      " [[4 2 6]\n",
      " [1 3 5]\n",
      " [9 8 7]]\n",
      "\n",
      "row wise sorted 2d array\n",
      " [[2 4 6]\n",
      " [1 3 5]\n",
      " [7 8 9]]\n",
      "\n",
      "column wise sorted 2d array\n",
      " [[1 2 5]\n",
      " [4 3 6]\n",
      " [9 8 7]]\n"
     ]
    }
   ],
   "source": [
    "# unsortedArr = np.array([4,2,6,1,3,5])\n",
    "# sortedArr = np.sort(unsortedArr)\n",
    "# print(\"unsorted array\",unsortedArr)\n",
    "# print(\"sorted array\",sortedArr)\n",
    "\n",
    "unsortedArr_2d = np.array([[4,2,6],[1,3,5],[9,8,7]])\n",
    "row_sortedArr_2d = np.sort(unsortedArr_2d,axis=1)\n",
    "col_sortedArr_2d = np.sort(unsortedArr_2d,axis=0)\n",
    "print(\"unsorted 2d array\\n\",unsortedArr_2d)\n",
    "print(\"\\nrow wise sorted 2d array\\n\",row_sortedArr_2d)\n",
    "print(\"\\ncolumn wise sorted 2d array\\n\",col_sortedArr_2d)"
   ]
  },
  {
   "cell_type": "markdown",
   "id": "43e34587",
   "metadata": {},
   "source": [
    "# filtration"
   ]
  },
  {
   "cell_type": "code",
   "execution_count": 8,
   "id": "83aacf89",
   "metadata": {},
   "outputs": [
    {
     "name": "stdout",
     "output_type": "stream",
     "text": [
      "original array [ 0  1  2  3  4  5  6  7  8  9 10 11]\n",
      "even number array [ 0  2  4  6  8 10]\n",
      "mask array [ True False  True False  True False  True False  True False  True False]\n",
      "filtered array [ 0  2  4  6  8 10]\n"
     ]
    }
   ],
   "source": [
    "arr = np.arange(12)\n",
    "print(\"original array\",arr)\n",
    "\n",
    "even_arr = arr[arr%2==0]\n",
    "print(\"even number array\",even_arr)\n",
    "\n",
    "\n",
    "m = arr%2==0\n",
    "print(\"mask array\",m)\n",
    "print(\"filtered array\",arr[m])"
   ]
  },
  {
   "cell_type": "markdown",
   "id": "e5fa1e3d",
   "metadata": {},
   "source": [
    "fancy indexing and np.where() "
   ]
  },
  {
   "cell_type": "code",
   "execution_count": 48,
   "id": "7fa186d0",
   "metadata": {},
   "outputs": [
    {
     "name": "stdout",
     "output_type": "stream",
     "text": [
      "original array\n",
      " [ 0  1  2  3  4  5  6  7  8  9 10 11]\n",
      "where result\n",
      " ['X' '1' 'X' '3' 'X' '5' 'X' '7' 'X' '9' 'X' '11']\n"
     ]
    }
   ],
   "source": [
    "arr = np.arange(12)\n",
    "print(\"original array\\n\",arr)\n",
    "\n",
    "# idx = [1,4,6,8]\n",
    "# print(\"index array\\n\",idx)\n",
    "\n",
    "# print(\"selected element\\n\",arr[idx])\n",
    "\n",
    "\n",
    "where_result = np.where(arr%2==0,'X',arr)\n",
    "print(\"where result\\n\",where_result)\n",
    "# print(\"selected element\\n\",arr[where_result])"
   ]
  },
  {
   "cell_type": "markdown",
   "id": "173e23ee",
   "metadata": {},
   "source": [
    "### adding and removing data"
   ]
  },
  {
   "cell_type": "code",
   "execution_count": 68,
   "id": "faee83fa",
   "metadata": {},
   "outputs": [
    {
     "name": "stdout",
     "output_type": "stream",
     "text": [
      "with new row\n",
      " [[1 2 3]\n",
      " [4 5 6]\n",
      " [7 8 9]]\n",
      "original array\n",
      " [[1 2 3]\n",
      " [4 5 6]]\n",
      "with new column\n",
      " [[1 2 3 7]\n",
      " [4 5 6 8]]\n"
     ]
    }
   ],
   "source": [
    "# arr1 = np.array([1,2,3])\n",
    "# arr2 = np.array([4,5,6])\n",
    "# print(\"adding two array\",arr1+arr2)\n",
    "# print(\"concatenated array\",np.concatenate((arr1,arr2)))\n",
    "\n",
    "arr_2d = np.array([[1,2,3],[4,5,6]])\n",
    "new_row = np.array([7,8,9])\n",
    "new_column = np.array([[7],[8]])\n",
    "\n",
    "with_new_row = np.vstack((arr_2d,new_row))\n",
    "print(\"with new row\\n\",with_new_row)\n",
    "\n",
    "with_new_column = np.hstack((arr_2d,new_column))\n",
    "print(\"original array\\n\",arr_2d)\n",
    "print(\"with new column\\n\",with_new_column)"
   ]
  },
  {
   "cell_type": "code",
   "execution_count": 85,
   "id": "e41c0d81",
   "metadata": {},
   "outputs": [
    {
     "name": "stdout",
     "output_type": "stream",
     "text": [
      "original 1D array\n",
      " [[1 2 3 4 5 6]]\n",
      "deleted column\n",
      " [1 3 5 6]\n",
      "\n",
      "original 2D array\n",
      " [[1 2 3]\n",
      " [4 5 6]]\n",
      "deleted column\n",
      " [[1]\n",
      " [4]]\n"
     ]
    }
   ],
   "source": [
    "arr_1D = np.array([[1,2,3, 4,5,6]])\n",
    "\n",
    "deleted_arr = np.delete(arr_1D,[1,3])\n",
    "\n",
    "print(\"original 1D array\\n\",arr_1D)\n",
    "print(\"deleted column\\n\",deleted_arr)\n",
    "\n",
    "\n",
    "arr_2D = np.array([[1,2,3],[4,5,6]])\n",
    "# print(\"original array\\n\",arr)\n",
    "\n",
    "# deleted = np.delete(arr,1,axis=0)\n",
    "# print(\"deleted row\\n\",deleted)\n",
    "\n",
    "deleted = np.delete(arr_2d,[1,2],axis=1)\n",
    "print(\"\\noriginal 2D array\\n\",arr_2D)\n",
    "print(\"deleted column\\n\",deleted)"
   ]
  }
 ],
 "metadata": {
  "kernelspec": {
   "display_name": "Python 3",
   "language": "python",
   "name": "python3"
  },
  "language_info": {
   "codemirror_mode": {
    "name": "ipython",
    "version": 3
   },
   "file_extension": ".py",
   "mimetype": "text/x-python",
   "name": "python",
   "nbconvert_exporter": "python",
   "pygments_lexer": "ipython3",
   "version": "3.12.8"
  }
 },
 "nbformat": 4,
 "nbformat_minor": 5
}
