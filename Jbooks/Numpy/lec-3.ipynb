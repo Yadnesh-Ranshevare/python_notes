{
 "cells": [
  {
   "cell_type": "code",
   "execution_count": 1,
   "id": "a444ec52",
   "metadata": {},
   "outputs": [],
   "source": [
    "import numpy as np"
   ]
  },
  {
   "cell_type": "code",
   "execution_count": 2,
   "id": "1abe1ff3",
   "metadata": {},
   "outputs": [
    {
     "name": "stdout",
     "output_type": "stream",
     "text": [
      "===== Zomato sales analysis ====\n",
      "\n",
      "sales data shape: (5, 5)\n",
      "\n",
      " 1st 3 rows:\n",
      " [[  1 100 200 300 400]\n",
      " [  2 150 250 350 450]\n",
      " [  3 200 300 400 500]]\n"
     ]
    }
   ],
   "source": [
    "# data structure: [restaurant_id, 2021, 2022, 2023, 2024]\n",
    "sales_data = np.array([\n",
    "    [1, 100, 200, 300, 400],\n",
    "    [2, 150, 250, 350, 450],\n",
    "    [3, 200, 300, 400, 500],\n",
    "    [4, 250, 350, 450, 550],\n",
    "    [5, 300, 400, 500, 600]\n",
    "])\n",
    "\n",
    "print(\"===== Zomato sales analysis ====\")\n",
    "print(\"\\nsales data shape:\", sales_data.shape)\n",
    "print(\"\\n 1st 3 rows:\\n\", sales_data[:3])\n"
   ]
  },
  {
   "cell_type": "code",
   "execution_count": 39,
   "id": "d7c98031",
   "metadata": {},
   "outputs": [
    {
     "name": "stdout",
     "output_type": "stream",
     "text": [
      "\n",
      "total sales per year:\n",
      " [1000 1500 2000 2500]\n",
      "\n",
      "total sales per restaurant:\n",
      " 7000\n"
     ]
    }
   ],
   "source": [
    "# total scales per year\n",
    "\n",
    "# total_sales = sales_data.sum(axis=0)\n",
    "total_sales = np.sum(sales_data[:, 1:], axis=0)\n",
    "print(\"\\ntotal sales per year:\\n\", total_sales)\n",
    "\n",
    "# final = total_sales.sum()\n",
    "final = np.sum(total_sales)\n",
    "print(\"\\ntotal sales per restaurant:\\n\", final)"
   ]
  },
  {
   "cell_type": "code",
   "execution_count": 42,
   "id": "8b3a7880",
   "metadata": {},
   "outputs": [
    {
     "name": "stdout",
     "output_type": "stream",
     "text": [
      "\n",
      "minimum sales per year:\n",
      " [100 150 200 250 300]\n"
     ]
    }
   ],
   "source": [
    "# minimum sales per shop\n",
    "min_sales = np.min(sales_data[:, 1:], axis=1)\n",
    "print(\"\\nminimum sales per year:\\n\", min_sales)"
   ]
  },
  {
   "cell_type": "code",
   "execution_count": 44,
   "id": "acc4e7f8",
   "metadata": {},
   "outputs": [
    {
     "name": "stdout",
     "output_type": "stream",
     "text": [
      "\n",
      "maximum sales per year:\n",
      " [300 400 500 600]\n"
     ]
    }
   ],
   "source": [
    "# maximum sales per year\n",
    "max_sales = np.max(sales_data[:, 1:], axis=0)\n",
    "print(\"\\nmaximum sales per year:\\n\", max_sales)"
   ]
  },
  {
   "cell_type": "code",
   "execution_count": 45,
   "id": "8b7e8142",
   "metadata": {},
   "outputs": [
    {
     "name": "stdout",
     "output_type": "stream",
     "text": [
      "\n",
      "avg sales per year:\n",
      " [250. 300. 350. 400. 450.]\n"
     ]
    }
   ],
   "source": [
    "# avg sales pre shop\n",
    "avg_sales = np.mean(sales_data[:, 1:], axis=1)\n",
    "print(\"\\navg sales per year:\\n\", avg_sales)"
   ]
  },
  {
   "cell_type": "code",
   "execution_count": 46,
   "id": "d1524602",
   "metadata": {},
   "outputs": [
    {
     "name": "stdout",
     "output_type": "stream",
     "text": [
      "\n",
      "cumulative sum:\n",
      " [[ 100  300  600 1000]\n",
      " [ 150  400  750 1200]\n",
      " [ 200  500  900 1400]\n",
      " [ 250  600 1050 1600]\n",
      " [ 300  700 1200 1800]]\n"
     ]
    }
   ],
   "source": [
    "# cumulative sum\n",
    "cumulative_sum = np.cumsum(sales_data[:, 1:], axis=1)\n",
    "print(\"\\ncumulative sum:\\n\", cumulative_sum)"
   ]
  },
  {
   "cell_type": "code",
   "execution_count": 5,
   "id": "519996a9",
   "metadata": {},
   "outputs": [
    {
     "name": "stdout",
     "output_type": "stream",
     "text": [
      "['SHOP1' 'SHOP2' 'SHOP3' 'SHOP4' 'SHOP5']\n"
     ]
    }
   ],
   "source": [
    "shops = [\"shop1\", \"shop2\", \"shop3\", \"shop4\", \"shop5\"]\n",
    "\n",
    "vectorize_upper = np.vectorize(str.upper)\n",
    "\n",
    "shops = vectorize_upper(shops)\n",
    "print(shops)"
   ]
  }
 ],
 "metadata": {
  "kernelspec": {
   "display_name": "Python 3",
   "language": "python",
   "name": "python3"
  },
  "language_info": {
   "codemirror_mode": {
    "name": "ipython",
    "version": 3
   },
   "file_extension": ".py",
   "mimetype": "text/x-python",
   "name": "python",
   "nbconvert_exporter": "python",
   "pygments_lexer": "ipython3",
   "version": "3.12.8"
  }
 },
 "nbformat": 4,
 "nbformat_minor": 5
}
