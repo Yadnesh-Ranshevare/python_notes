{
 "cells": [
  {
   "cell_type": "markdown",
   "id": "6afdbbca",
   "metadata": {},
   "source": [
    "## importing the numpy"
   ]
  },
  {
   "cell_type": "code",
   "execution_count": 1,
   "id": "59d4a9b0",
   "metadata": {},
   "outputs": [],
   "source": [
    "import numpy as np"
   ]
  },
  {
   "cell_type": "markdown",
   "id": "f00594db",
   "metadata": {},
   "source": [
    "## creating array from list"
   ]
  },
  {
   "cell_type": "code",
   "execution_count": 3,
   "id": "60e3137c",
   "metadata": {},
   "outputs": [
    {
     "name": "stdout",
     "output_type": "stream",
     "text": [
      "[1 2 3 4 5]\n",
      "[[1 2 3]\n",
      " [4 5 6]]\n"
     ]
    }
   ],
   "source": [
    "arr_1d = np.array([1,2,3,4,5])\n",
    "arr_2d = np.array([[1,2,3],[4,5,6]])\n",
    "print(arr_1d)\n",
    "print(arr_2d)"
   ]
  },
  {
   "cell_type": "markdown",
   "id": "62c30731",
   "metadata": {},
   "source": [
    "array vs list\n"
   ]
  },
  {
   "cell_type": "code",
   "execution_count": 6,
   "id": "a3462298",
   "metadata": {},
   "outputs": [
    {
     "name": "stdout",
     "output_type": "stream",
     "text": [
      "list multiplication [[1, 2, 3], [4, 5, 6], [1, 2, 3], [4, 5, 6]]\n",
      "array multiplication [[ 2  4  6]\n",
      " [ 8 10 12]]\n"
     ]
    }
   ],
   "source": [
    "list = [[1,2,3],[4,5,6]]\n",
    "arr = np.array(list)\n",
    "\n",
    "print(\"list multiplication\", list*2)\n",
    "print(\"array multiplication\", arr*2)\n"
   ]
  },
  {
   "cell_type": "markdown",
   "id": "0832afa2",
   "metadata": {},
   "source": [
    "### to perform the element wise multiplication"
   ]
  },
  {
   "cell_type": "code",
   "execution_count": 13,
   "id": "75cf7d14",
   "metadata": {},
   "outputs": [
    {
     "name": "stdout",
     "output_type": "stream",
     "text": [
      "new list [2, 4, 6, 8, 10]\n"
     ]
    }
   ],
   "source": [
    "list = [1,2,3,4,5]\n",
    "new_list = [i*2 for i in list]\n",
    "print(\"new list\",new_list)"
   ]
  },
  {
   "cell_type": "markdown",
   "id": "f1a5f31e",
   "metadata": {},
   "source": [
    "### final comparison between array list "
   ]
  },
  {
   "cell_type": "code",
   "execution_count": 21,
   "id": "6203122a",
   "metadata": {},
   "outputs": [
    {
     "name": "stdout",
     "output_type": "stream",
     "text": [
      "time require to to perform the list multiplication 0.11458492279052734\n",
      "time require to to perform the array multiplication 0.0391087532043457\n"
     ]
    }
   ],
   "source": [
    "import time\n",
    "\n",
    "start_time = time.time()\n",
    "\n",
    "list = [i for i in range(1000000)]\n",
    "new_list = [i*2 for i in list]\n",
    "print('time require to to perform the list multiplication',time.time() - start_time)\n",
    "\n",
    "\n",
    "start_time = time.time()\n",
    "\n",
    "arr = np.array(list)\n",
    "new_arr = arr*2\n",
    "print('time require to to perform the array multiplication',time.time() - start_time)"
   ]
  },
  {
   "cell_type": "markdown",
   "id": "d44ed9be",
   "metadata": {},
   "source": [
    "## numpy methods "
   ]
  },
  {
   "cell_type": "code",
   "execution_count": 25,
   "id": "38004685",
   "metadata": {},
   "outputs": [
    {
     "name": "stdout",
     "output_type": "stream",
     "text": [
      "[ 0  2  4  6  8 10 12 14 16 18]\n",
      "[[0. 0. 0.]\n",
      " [0. 0. 0.]]\n",
      "[[1. 1. 1.]\n",
      " [1. 1. 1.]]\n",
      "[[5 5 5]\n",
      " [5 5 5]]\n",
      "[[0.29485735 0.31656954 0.66649625]\n",
      " [0.09152994 0.42496229 0.1134094 ]]\n"
     ]
    }
   ],
   "source": [
    "a = np.arange(0,20,2)\n",
    "print(a)\n",
    "\n",
    "zero = np.zeros((2,3))\n",
    "print(zero)\n",
    "ones = np.ones((2,3))\n",
    "print(ones)\n",
    "\n",
    "\n",
    "full = np.full((2,3),5)\n",
    "print(full)\n",
    "\n",
    "\n",
    "random = np.random.random((2,3))\n",
    "print(random)"
   ]
  },
  {
   "cell_type": "markdown",
   "id": "487e75a5",
   "metadata": {},
   "source": [
    "## Array properties"
   ]
  },
  {
   "cell_type": "code",
   "execution_count": 6,
   "id": "620647d5",
   "metadata": {},
   "outputs": [
    {
     "name": "stdout",
     "output_type": "stream",
     "text": [
      "shape (2, 3)\n",
      "dimension 2\n",
      "size 6\n",
      "data type int64\n"
     ]
    }
   ],
   "source": [
    "arr = np.array([[1,2,3],[4,5,6]])\n",
    "print(\"shape\",arr.shape)\n",
    "print(\"dimension\",arr.ndim)\n",
    "print(\"size\",arr.size)\n",
    "print(\"data type\",arr.dtype)\n",
    "\n"
   ]
  },
  {
   "cell_type": "markdown",
   "id": "4093d069",
   "metadata": {},
   "source": [
    "## array reshaping"
   ]
  },
  {
   "cell_type": "code",
   "execution_count": null,
   "id": "8b17ea52",
   "metadata": {},
   "outputs": [
    {
     "name": "stdout",
     "output_type": "stream",
     "text": [
      "original array [ 0  1  2  3  4  5  6  7  8  9 10 11]\n",
      "3 x 4 reshaped array \n",
      " [[ 0  1  2  3]\n",
      " [ 4  5  6  7]\n",
      " [ 8  9 10 11]]\n",
      "transposed array\n",
      " [[ 0  4  8]\n",
      " [ 1  5  9]\n",
      " [ 2  6 10]\n",
      " [ 3  7 11]] [[ 0  1  2  3]\n",
      " [ 4  5  6  7]\n",
      " [ 8  9 10 11]]\n",
      "flattened array [ 0  1  2  3  4  5  6  7  8  9 10 11]\n",
      "ravelled array [ 0  1  2  3  4  5  6  7  8  9 10 11]\n"
     ]
    }
   ],
   "source": [
    "\n",
    "arr = np.arange(12)\n",
    "print(\"original array\",arr)\n",
    "\n",
    "reshaped = arr.reshape(3,4)\n",
    "print(\"3 x 4 reshaped array \\n\",reshaped)\n",
    "\n",
    "transpose = reshaped.T\n",
    "print(\"transposed array\\n\",transpose)\n",
    "\n",
    "\n",
    "\n",
    "arr = reshaped.flatten()\n",
    "print(\"flattened array\",arr)\n",
    "\n",
    "arr = reshaped.ravel()\n",
    "print(\"ravelled array\",arr)\n",
    "\n",
    "\n"
   ]
  },
  {
   "cell_type": "markdown",
   "id": "a77a2869",
   "metadata": {},
   "source": [
    "flatten vs revel"
   ]
  },
  {
   "cell_type": "code",
   "execution_count": 17,
   "id": "912464e6",
   "metadata": {},
   "outputs": [
    {
     "name": "stdout",
     "output_type": "stream",
     "text": [
      "Original array:\n",
      " [[1 2]\n",
      " [3 4]]\n",
      "\n",
      "Flattened copy:\n",
      " [100   2   3   4]\n",
      "Original array:\n",
      " [[100   2]\n",
      " [  3   4]]\n",
      "\n",
      "Raveled view:\n",
      " [100   2   3   4]\n"
     ]
    }
   ],
   "source": [
    "a = np.array([[1, 2], [3, 4]])\n",
    "b = a.flatten()\n",
    "\n",
    "b[0] = 100\n",
    "print(\"Original array:\\n\", a)  # a is not changed\n",
    "print(\"\\nFlattened copy:\\n\", b)\n",
    "\n",
    "\n",
    "a = np.array([[1, 2], [3, 4]])\n",
    "b = a.ravel()\n",
    "\n",
    "b[0] = 100\n",
    "print(\"Original array:\\n\", a)  # a *may* change if b is a view\n",
    "print(\"\\nRaveled view:\\n\", b)"
   ]
  }
 ],
 "metadata": {
  "kernelspec": {
   "display_name": "Python 3",
   "language": "python",
   "name": "python3"
  },
  "language_info": {
   "codemirror_mode": {
    "name": "ipython",
    "version": 3
   },
   "file_extension": ".py",
   "mimetype": "text/x-python",
   "name": "python",
   "nbconvert_exporter": "python",
   "pygments_lexer": "ipython3",
   "version": "3.12.8"
  }
 },
 "nbformat": 4,
 "nbformat_minor": 5
}
