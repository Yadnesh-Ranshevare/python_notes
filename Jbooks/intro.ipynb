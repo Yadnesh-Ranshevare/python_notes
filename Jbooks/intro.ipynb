{
 "cells": [
  {
   "cell_type": "markdown",
   "id": "30b64a99",
   "metadata": {},
   "source": [
    "# first code in jbooks\n"
   ]
  },
  {
   "cell_type": "code",
   "execution_count": 1,
   "id": "9939cca1",
   "metadata": {},
   "outputs": [
    {
     "name": "stdout",
     "output_type": "stream",
     "text": [
      "hello\n"
     ]
    }
   ],
   "source": [
    "print(\"hello\")"
   ]
  },
  {
   "cell_type": "code",
   "execution_count": 1,
   "id": "f510919e",
   "metadata": {},
   "outputs": [
    {
     "name": "stdout",
     "output_type": "stream",
     "text": [
      "my first jbook code\n"
     ]
    }
   ],
   "source": [
    "print(\"my first jbook code\")"
   ]
  }
 ],
 "metadata": {
  "kernelspec": {
   "display_name": "Python 3",
   "language": "python",
   "name": "python3"
  },
  "language_info": {
   "codemirror_mode": {
    "name": "ipython",
    "version": 3
   },
   "file_extension": ".py",
   "mimetype": "text/x-python",
   "name": "python",
   "nbconvert_exporter": "python",
   "pygments_lexer": "ipython3",
   "version": "3.12.8"
  }
 },
 "nbformat": 4,
 "nbformat_minor": 5
}
